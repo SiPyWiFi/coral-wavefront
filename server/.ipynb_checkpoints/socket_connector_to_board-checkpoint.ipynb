{
 "cells": [
  {
   "cell_type": "code",
   "execution_count": 1,
   "metadata": {},
   "outputs": [],
   "source": [
    "import socket    \n",
    "import time"
   ]
  },
  {
   "cell_type": "code",
   "execution_count": 2,
   "metadata": {},
   "outputs": [
    {
     "name": "stdout",
     "output_type": "stream",
     "text": [
      "Socket successfully created\n"
     ]
    }
   ],
   "source": [
    "# next create a socket object \n",
    "s = socket.socket()  \n",
    "print(\"Socket successfully created\")"
   ]
  },
  {
   "cell_type": "code",
   "execution_count": 3,
   "metadata": {},
   "outputs": [],
   "source": [
    "# reserve a port on your computer in our \n",
    "# case it is 12345 but it can be anything \n",
    "port = 12346                "
   ]
  },
  {
   "cell_type": "code",
   "execution_count": 4,
   "metadata": {},
   "outputs": [
    {
     "name": "stdout",
     "output_type": "stream",
     "text": [
      "socket binded to 12346\n"
     ]
    }
   ],
   "source": [
    "# Next bind to the port \n",
    "# we have not typed any ip in the ip field \n",
    "# instead we have inputted an empty string \n",
    "# this makes the server listen to requests  \n",
    "# coming from other computers on the network \n",
    "s.bind(('', port))         \n",
    "print(\"socket binded to %s\" %(port)) "
   ]
  },
  {
   "cell_type": "code",
   "execution_count": 5,
   "metadata": {},
   "outputs": [
    {
     "name": "stdout",
     "output_type": "stream",
     "text": [
      "socket is listening\n"
     ]
    }
   ],
   "source": [
    " # put the socket into listening mode \n",
    "s.listen(4096)      \n",
    "print(\"socket is listening\")       "
   ]
  },
  {
   "cell_type": "code",
   "execution_count": 12,
   "metadata": {},
   "outputs": [
    {
     "name": "stdout",
     "output_type": "stream",
     "text": [
      "Got connection from ('192.168.100.2', 49394)\n",
      "b'Client aquire image...'\n",
      "899\n",
      "b'image sended ...'\n"
     ]
    }
   ],
   "source": [
    "# Establish connection with client. \n",
    "c, addr = s.accept()      \n",
    "print('Got connection from', addr)\n",
    "\n",
    "# send a thank you message to the client.  \n",
    "c.send(str.encode('Connection From Laptop')) \n",
    "\n",
    "# recieve data\n",
    "print(c.recv(1024))\n",
    "buffer_size = 1024\n",
    "image_array = bytes()\n",
    "for loops in range(921600//buffer_size):\n",
    "       image_buffer = c.recv(buffer_size)\n",
    "       image_array += image_buffer \n",
    "       c.send(bytearray(1)) \n",
    "print(loops)\n",
    "print(c.recv(100))\n",
    "\n",
    "# Close the connection wideth the client \n",
    "c.close() "
   ]
  },
  {
   "cell_type": "code",
   "execution_count": 13,
   "metadata": {},
   "outputs": [
    {
     "data": {
      "text/plain": [
       "921600"
      ]
     },
     "execution_count": 13,
     "metadata": {},
     "output_type": "execute_result"
    }
   ],
   "source": [
    "type(image_buffer)\n",
    "len(image_array)"
   ]
  },
  {
   "cell_type": "code",
   "execution_count": 14,
   "metadata": {},
   "outputs": [],
   "source": [
    "from PIL import Image\n",
    "pil_im = Image.frombytes(\"RGB\", (640, 480), image_array)\n",
    "pil_im.save(\"snap.png\", \"png\")"
   ]
  },
  {
   "cell_type": "code",
   "execution_count": null,
   "metadata": {},
   "outputs": [],
   "source": []
  },
  {
   "cell_type": "code",
   "execution_count": null,
   "metadata": {},
   "outputs": [],
   "source": []
  }
 ],
 "metadata": {
  "kernelspec": {
   "display_name": "Python 3",
   "language": "python",
   "name": "python3"
  },
  "language_info": {
   "codemirror_mode": {
    "name": "ipython",
    "version": 3
   },
   "file_extension": ".py",
   "mimetype": "text/x-python",
   "name": "python",
   "nbconvert_exporter": "python",
   "pygments_lexer": "ipython3",
   "version": "3.7.5"
  }
 },
 "nbformat": 4,
 "nbformat_minor": 4
}
