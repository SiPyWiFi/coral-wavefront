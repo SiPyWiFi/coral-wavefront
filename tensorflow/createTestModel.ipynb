{
 "cells": [
  {
   "cell_type": "markdown",
   "metadata": {},
   "source": [
    "# Create Test Model to convert to TensorFlow Lite\n",
    "\n",
    "-> https://www.tensorflow.org/lite/guide/get_started#2_convert_the_model_format"
   ]
  },
  {
   "cell_type": "code",
   "execution_count": 1,
   "metadata": {},
   "outputs": [],
   "source": [
    "import tensorflow as tf\n",
    "from tensorflow.keras import models, layers, datasets\n",
    "import matplotlib.pyplot as plt"
   ]
  },
  {
   "cell_type": "markdown",
   "metadata": {},
   "source": [
    "Import all packages and set up a test cnn  \n",
    "-> https://www.tensorflow.org/tutorials/images/cnn"
   ]
  },
  {
   "cell_type": "code",
   "execution_count": 2,
   "metadata": {},
   "outputs": [],
   "source": [
    "(train_images, train_labels), (test_images, test_labels) = datasets.cifar10.load_data()\n",
    "train_images, test_images = train_images / 255.0, test_images / 255.0"
   ]
  },
  {
   "cell_type": "code",
   "execution_count": 3,
   "metadata": {},
   "outputs": [],
   "source": [
    "model = models.Sequential()\n",
    "model.add(layers.Conv2D(32, (3, 3), activation='relu', input_shape=(32, 32, 3)))\n",
    "model.add(layers.MaxPooling2D((2, 2)))\n",
    "model.add(layers.Conv2D(64, (3, 3), activation='relu'))\n",
    "model.add(layers.MaxPooling2D((2, 2)))\n",
    "model.add(layers.Conv2D(64, (3, 3), activation='relu'))\n",
    "model.add(layers.Flatten())\n",
    "model.add(layers.Dense(64, activation='relu'))\n",
    "model.add(layers.Dense(10))"
   ]
  },
  {
   "cell_type": "markdown",
   "metadata": {},
   "source": [
    "Print a summary of the CNN Example:"
   ]
  },
  {
   "cell_type": "code",
   "execution_count": 4,
   "metadata": {},
   "outputs": [
    {
     "name": "stdout",
     "output_type": "stream",
     "text": [
      "Model: \"sequential\"\n",
      "_________________________________________________________________\n",
      "Layer (type)                 Output Shape              Param #   \n",
      "=================================================================\n",
      "conv2d (Conv2D)              (None, 30, 30, 32)        896       \n",
      "_________________________________________________________________\n",
      "max_pooling2d (MaxPooling2D) (None, 15, 15, 32)        0         \n",
      "_________________________________________________________________\n",
      "conv2d_1 (Conv2D)            (None, 13, 13, 64)        18496     \n",
      "_________________________________________________________________\n",
      "max_pooling2d_1 (MaxPooling2 (None, 6, 6, 64)          0         \n",
      "_________________________________________________________________\n",
      "conv2d_2 (Conv2D)            (None, 4, 4, 64)          36928     \n",
      "_________________________________________________________________\n",
      "flatten (Flatten)            (None, 1024)              0         \n",
      "_________________________________________________________________\n",
      "dense (Dense)                (None, 64)                65600     \n",
      "_________________________________________________________________\n",
      "dense_1 (Dense)              (None, 10)                650       \n",
      "=================================================================\n",
      "Total params: 122,570\n",
      "Trainable params: 122,570\n",
      "Non-trainable params: 0\n",
      "_________________________________________________________________\n"
     ]
    }
   ],
   "source": [
    "model.summary()"
   ]
  },
  {
   "cell_type": "markdown",
   "metadata": {},
   "source": [
    "List all avaible hardware for computing training"
   ]
  },
  {
   "cell_type": "code",
   "execution_count": 5,
   "metadata": {},
   "outputs": [
    {
     "name": "stdout",
     "output_type": "stream",
     "text": [
      "GPU:  [PhysicalDevice(name='/physical_device:GPU:0', device_type='GPU')]\n",
      "CPU:  [PhysicalDevice(name='/physical_device:CPU:0', device_type='CPU')]\n",
      "TPU:  []\n"
     ]
    }
   ],
   "source": [
    "print(\"GPU: \", tf.config.list_physical_devices('GPU'))\n",
    "print(\"CPU: \", tf.config.list_physical_devices('CPU'))\n",
    "print(\"TPU: \", tf.config.list_physical_devices('TPU'))"
   ]
  },
  {
   "cell_type": "code",
   "execution_count": 6,
   "metadata": {},
   "outputs": [
    {
     "name": "stdout",
     "output_type": "stream",
     "text": [
      "Train on 50000 samples, validate on 10000 samples\n",
      "Epoch 1/10\n",
      "50000/50000 [==============================] - 23s 465us/sample - loss: 1.5529 - accuracy: 0.4338 - val_loss: 1.3699 - val_accuracy: 0.5061\n",
      "Epoch 2/10\n",
      "50000/50000 [==============================] - 20s 392us/sample - loss: 1.1668 - accuracy: 0.5872 - val_loss: 1.0644 - val_accuracy: 0.6229\n",
      "Epoch 3/10\n",
      "50000/50000 [==============================] - 19s 385us/sample - loss: 1.0136 - accuracy: 0.6453 - val_loss: 0.9765 - val_accuracy: 0.6537\n",
      "Epoch 4/10\n",
      "50000/50000 [==============================] - 21s 422us/sample - loss: 0.9139 - accuracy: 0.6802 - val_loss: 0.9497 - val_accuracy: 0.6673\n",
      "Epoch 5/10\n",
      "50000/50000 [==============================] - 22s 434us/sample - loss: 0.8424 - accuracy: 0.7061 - val_loss: 0.8825 - val_accuracy: 0.6956\n",
      "Epoch 6/10\n",
      "50000/50000 [==============================] - 20s 400us/sample - loss: 0.7952 - accuracy: 0.7211 - val_loss: 0.8765 - val_accuracy: 0.6976\n",
      "Epoch 7/10\n",
      "50000/50000 [==============================] - 20s 407us/sample - loss: 0.7458 - accuracy: 0.7386 - val_loss: 0.8726 - val_accuracy: 0.7006\n",
      "Epoch 8/10\n",
      "50000/50000 [==============================] - 21s 425us/sample - loss: 0.7056 - accuracy: 0.7527 - val_loss: 0.9220 - val_accuracy: 0.6894\n",
      "Epoch 9/10\n",
      "50000/50000 [==============================] - 19s 385us/sample - loss: 0.6706 - accuracy: 0.7639 - val_loss: 0.8866 - val_accuracy: 0.6927\n",
      "Epoch 10/10\n",
      "50000/50000 [==============================] - 20s 390us/sample - loss: 0.6327 - accuracy: 0.7752 - val_loss: 0.8651 - val_accuracy: 0.7139\n"
     ]
    }
   ],
   "source": [
    "model.compile(optimizer='adam',\n",
    "              loss=tf.keras.losses.SparseCategoricalCrossentropy(from_logits=True),\n",
    "              metrics=['accuracy'])\n",
    "\n",
    "history = model.fit(train_images, train_labels, epochs=10, \n",
    "                    validation_data=(test_images, test_labels))"
   ]
  },
  {
   "cell_type": "code",
   "execution_count": 7,
   "metadata": {},
   "outputs": [
    {
     "name": "stdout",
     "output_type": "stream",
     "text": [
      "10000/10000 - 2s - loss: 0.8651 - accuracy: 0.7139\n"
     ]
    },
    {
     "data": {
      "image/png": "[encoded data removed]",
      "text/plain": [
       "<Figure size 432x288 with 1 Axes>"
      ]
     },
     "metadata": {
      "needs_background": "light"
     },
     "output_type": "display_data"
    }
   ],
   "source": [
    "plt.plot(history.history['accuracy'], label='accuracy')\n",
    "plt.plot(history.history['val_accuracy'], label = 'val_accuracy')\n",
    "plt.xlabel('Epoch')\n",
    "plt.ylabel('Accuracy')\n",
    "plt.ylim([0.5, 1])\n",
    "plt.legend(loc='lower right')\n",
    "\n",
    "test_loss, test_acc = model.evaluate(test_images,  test_labels, verbose=2)"
   ]
  },
  {
   "cell_type": "code",
   "execution_count": 10,
   "metadata": {},
   "outputs": [
    {
     "name": "stdout",
     "output_type": "stream",
     "text": [
      "INFO:tensorflow:Assets written to: models\\tf_model\\assets\n"
     ]
    }
   ],
   "source": [
    "model.save(\"models\\\\tf_model\")"
   ]
  },
  {
   "cell_type": "markdown",
   "metadata": {},
   "source": [
    "The model is now saved.  \n",
    "It can be converted to TF Lite now.  \n",
    "\n",
    "## Convert"
   ]
  },
  {
   "cell_type": "code",
   "execution_count": 14,
   "metadata": {},
   "outputs": [
    {
     "data": {
      "text/plain": [
       "493260"
      ]
     },
     "execution_count": 14,
     "metadata": {},
     "output_type": "execute_result"
    }
   ],
   "source": [
    "import tensorflow as tf\n",
    "converter = tf.lite.TFLiteConverter.from_saved_model(\"models\\\\tf_model\\\\\")\n",
    "tflite_model = converter.convert()\n",
    "open(\"models\\\\tf_model\\\\converted_model.tflite\", \"wb\").write(tflite_model)"
   ]
  },
  {
   "cell_type": "code",
   "execution_count": null,
   "metadata": {},
   "outputs": [],
   "source": []
  }
 ],
 "metadata": {
  "kernelspec": {
   "display_name": "Python 3",
   "language": "python",
   "name": "python3"
  },
  "language_info": {
   "codemirror_mode": {
    "name": "ipython",
    "version": 3
   },
   "file_extension": ".py",
   "mimetype": "text/x-python",
   "name": "python",
   "nbconvert_exporter": "python",
   "pygments_lexer": "ipython3",
   "version": "3.7.6"
  }
 },
 "nbformat": 4,
 "nbformat_minor": 4
}
